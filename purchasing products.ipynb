{
 "cells": [
  {
   "cell_type": "code",
   "execution_count": 2,
   "id": "eafa762e",
   "metadata": {},
   "outputs": [],
   "source": [
    "import json\n",
    "import time"
   ]
  },
  {
   "cell_type": "markdown",
   "id": "cd0869fe",
   "metadata": {},
   "source": [
    "##### reading the json file"
   ]
  },
  {
   "cell_type": "code",
   "execution_count": 3,
   "id": "663b3d26",
   "metadata": {},
   "outputs": [],
   "source": [
    "fd=open('record.json','r')\n",
    "text=fd.read()\n",
    "fd.close()"
   ]
  },
  {
   "cell_type": "code",
   "execution_count": 4,
   "id": "20954e2e",
   "metadata": {},
   "outputs": [
    {
     "data": {
      "text/plain": [
       "'{\"1011\": {\"name\": \"Dark fantasy\", \"weight\": \"600g\", \"price\": 180, \"quantity\": 450, \"offer%\": 25}, \"1012\": {\"name\": \"Daawath Basmati\", \"weight\": \"5kg\", \"price\": 299, \"quantity\": 300, \"offer%\": 20}, \"1013\": {\"name\": \"Tata chilli powder\", \"weight\": \"500g\", \"price\": 105, \"quantity\": 200, \"offer%\": 47}, \"1014\": {\"name\": \"Ashirvad atta\", \"weight\": \"5kg\", \"price\": 272, \"quantity\": 398, \"offer%\": 9}, \"1015\": {\"name\": \"Tata Tea\", \"weight\": \"1kg\", \"price\": 470, \"quantity\": 150, \"offer%\": 21}, \"1016\": {\"name\": \"Pril Dish Wash\", \"weight\": \"2l\", \"price\": 320, \"quantity\": 500, \"offer%\": 18}, \"1017\": {\"name\": \"Bingo Chips\", \"weight\": \"130g\", \"price\": 40, \"quantity\": 600, \"offer%\": 20}, \"1018\": {\"name\": \"Cinthol Soap\", \"weight\": \"100g\", \"price\": 243, \"quantity\": 150, \"offer%\": 15}, \"1019\": {\"name\": \"Dabur Shampoo\", \"weight\": \"250ml\", \"price\": 228, \"quantity\": 100, \"offer%\": 40}, \"1020\": {\"name\": \"B-Natural Mango Juice\", \"weight\": \"1l\", \"price\": 220, \"quantity\": 200, \"offer%\": 5}, \"1021\": {\"name\": \"Godrej Handwash\", \"weight\": \"1.5l\", \"price\": 149, \"quantity\": 310, \"offer%\": 28}, \"1022\": {\"name\": \"Lizol\", \"weight\": \"5l\", \"price\": 606, \"quantity\": 240, \"offer%\": 20}, \"1023\": {\"name\": \"Thums Up\", \"weight\": \"1.25l\", \"price\": 60, \"quantity\": 120, \"offer%\": 7}, \"1024\": {\"name\": \"Nivea Body Lotion\", \"weight\": \"600ml\", \"price\": 411, \"quantity\": 280, \"offer%\": 7}, \"1025\": {\"name\": \"Nivea Body Wash\", \"weight\": \"500ml\", \"price\": 319, \"quantity\": 626, \"offer%\": 20}, \"1026\": {\"name\": \"Tomato Ketchup\", \"weight\": \"950g\", \"price\": 75, \"quantity\": 508, \"offer%\": 37}, \"1027\": {\"name\": \"Savlon Disinfect Spray\", \"weight\": \"230ml\", \"price\": 135, \"quantity\": 305, \"offer%\": 15}, \"1028\": {\"name\": \"Ponds Cream\", \"weight\": \"35g\", \"price\": 128, \"quantity\": 546, \"offer%\": 9}, \"1029\": {\"name\": \"Dove Shampoo\", \"weight\": \"400ml\", \"price\": 227, \"quantity\": 315, \"offer%\": 27}, \"1030\": {\"name\": \"Maaza\", \"weight\": \"1.2l\", \"price\": 70, \"quantity\": 125, \"offer%\": 16}, \"1031\": {\"name\": \"Saffola Honey\", \"weight\": \"1.2kg\", \"price\": 265, \"quantity\": 244, \"offer%\": 36}, \"1032\": {\"name\": \"Complain\", \"weight\": \"1kg\", \"price\": 450, \"quantity\": 426, \"offer%\": 15}, \"1033\": {\"name\": \"Dettol Body Wash\", \"weight\": \"250ml\", \"price\": 150, \"quantity\": 346, \"offer%\": 25}, \"1034\": {\"name\": \"Pampers\", \"weight\": \"12nos\", \"price\": 1671, \"quantity\": 156, \"offer%\": 20}, \"1035\": {\"name\": \"Himalaya Laundry Wash\", \"weight\": \"1l\", \"price\": 310, \"quantity\": 741, \"offer%\": 27}, \"1036\": {\"name\": \"Harpic Cleaner\", \"weight\": \"1l\", \"price\": 153, \"quantity\": 258, \"offer%\": 10}, \"1037\": {\"name\": \"Colgate Mouth Freshner\", \"weight\": \"500ml\", \"price\": 404, \"quantity\": 654, \"offer%\": 11}, \"1038\": {\"name\": \"Exo Dish Wash Bar\", \"weight\": \"700g\", \"price\": 113, \"quantity\": 354, \"offer%\": 8}, \"1039\": {\"name\": \"Margo Neem Soap\", \"weight\": \"125\", \"price\": 119, \"quantity\": 156, \"offer%\": 4}, \"1040\": {\"name\": \"colgate Tooth Brush\", \"weight\": \"4nos\", \"price\": 204, \"quantity\": 365, \"offer%\": 15}, \"1041\": {\"name\": \"Dabur Red Paste\", \"weight\": \"800g\", \"price\": 264, \"quantity\": 412, \"offer%\": 9}, \"1042\": {\"name\": \"Safe Wash Liquid Detergent\", \"weight\": \"1l\", \"price\": 294, \"quantity\": 698, \"offer%\": 16}}'"
      ]
     },
     "execution_count": 4,
     "metadata": {},
     "output_type": "execute_result"
    }
   ],
   "source": [
    "text"
   ]
  },
  {
   "cell_type": "code",
   "execution_count": 5,
   "id": "416f16ce",
   "metadata": {},
   "outputs": [
    {
     "data": {
      "text/plain": [
       "{'1011': {'name': 'Dark fantasy',\n",
       "  'weight': '600g',\n",
       "  'price': 180,\n",
       "  'quantity': 450,\n",
       "  'offer%': 25},\n",
       " '1012': {'name': 'Daawath Basmati',\n",
       "  'weight': '5kg',\n",
       "  'price': 299,\n",
       "  'quantity': 300,\n",
       "  'offer%': 20},\n",
       " '1013': {'name': 'Tata chilli powder',\n",
       "  'weight': '500g',\n",
       "  'price': 105,\n",
       "  'quantity': 200,\n",
       "  'offer%': 47},\n",
       " '1014': {'name': 'Ashirvad atta',\n",
       "  'weight': '5kg',\n",
       "  'price': 272,\n",
       "  'quantity': 398,\n",
       "  'offer%': 9},\n",
       " '1015': {'name': 'Tata Tea',\n",
       "  'weight': '1kg',\n",
       "  'price': 470,\n",
       "  'quantity': 150,\n",
       "  'offer%': 21},\n",
       " '1016': {'name': 'Pril Dish Wash',\n",
       "  'weight': '2l',\n",
       "  'price': 320,\n",
       "  'quantity': 500,\n",
       "  'offer%': 18},\n",
       " '1017': {'name': 'Bingo Chips',\n",
       "  'weight': '130g',\n",
       "  'price': 40,\n",
       "  'quantity': 600,\n",
       "  'offer%': 20},\n",
       " '1018': {'name': 'Cinthol Soap',\n",
       "  'weight': '100g',\n",
       "  'price': 243,\n",
       "  'quantity': 150,\n",
       "  'offer%': 15},\n",
       " '1019': {'name': 'Dabur Shampoo',\n",
       "  'weight': '250ml',\n",
       "  'price': 228,\n",
       "  'quantity': 100,\n",
       "  'offer%': 40},\n",
       " '1020': {'name': 'B-Natural Mango Juice',\n",
       "  'weight': '1l',\n",
       "  'price': 220,\n",
       "  'quantity': 200,\n",
       "  'offer%': 5},\n",
       " '1021': {'name': 'Godrej Handwash',\n",
       "  'weight': '1.5l',\n",
       "  'price': 149,\n",
       "  'quantity': 310,\n",
       "  'offer%': 28},\n",
       " '1022': {'name': 'Lizol',\n",
       "  'weight': '5l',\n",
       "  'price': 606,\n",
       "  'quantity': 240,\n",
       "  'offer%': 20},\n",
       " '1023': {'name': 'Thums Up',\n",
       "  'weight': '1.25l',\n",
       "  'price': 60,\n",
       "  'quantity': 120,\n",
       "  'offer%': 7},\n",
       " '1024': {'name': 'Nivea Body Lotion',\n",
       "  'weight': '600ml',\n",
       "  'price': 411,\n",
       "  'quantity': 280,\n",
       "  'offer%': 7},\n",
       " '1025': {'name': 'Nivea Body Wash',\n",
       "  'weight': '500ml',\n",
       "  'price': 319,\n",
       "  'quantity': 626,\n",
       "  'offer%': 20},\n",
       " '1026': {'name': 'Tomato Ketchup',\n",
       "  'weight': '950g',\n",
       "  'price': 75,\n",
       "  'quantity': 508,\n",
       "  'offer%': 37},\n",
       " '1027': {'name': 'Savlon Disinfect Spray',\n",
       "  'weight': '230ml',\n",
       "  'price': 135,\n",
       "  'quantity': 305,\n",
       "  'offer%': 15},\n",
       " '1028': {'name': 'Ponds Cream',\n",
       "  'weight': '35g',\n",
       "  'price': 128,\n",
       "  'quantity': 546,\n",
       "  'offer%': 9},\n",
       " '1029': {'name': 'Dove Shampoo',\n",
       "  'weight': '400ml',\n",
       "  'price': 227,\n",
       "  'quantity': 315,\n",
       "  'offer%': 27},\n",
       " '1030': {'name': 'Maaza',\n",
       "  'weight': '1.2l',\n",
       "  'price': 70,\n",
       "  'quantity': 125,\n",
       "  'offer%': 16},\n",
       " '1031': {'name': 'Saffola Honey',\n",
       "  'weight': '1.2kg',\n",
       "  'price': 265,\n",
       "  'quantity': 244,\n",
       "  'offer%': 36},\n",
       " '1032': {'name': 'Complain',\n",
       "  'weight': '1kg',\n",
       "  'price': 450,\n",
       "  'quantity': 426,\n",
       "  'offer%': 15},\n",
       " '1033': {'name': 'Dettol Body Wash',\n",
       "  'weight': '250ml',\n",
       "  'price': 150,\n",
       "  'quantity': 346,\n",
       "  'offer%': 25},\n",
       " '1034': {'name': 'Pampers',\n",
       "  'weight': '12nos',\n",
       "  'price': 1671,\n",
       "  'quantity': 156,\n",
       "  'offer%': 20},\n",
       " '1035': {'name': 'Himalaya Laundry Wash',\n",
       "  'weight': '1l',\n",
       "  'price': 310,\n",
       "  'quantity': 741,\n",
       "  'offer%': 27},\n",
       " '1036': {'name': 'Harpic Cleaner',\n",
       "  'weight': '1l',\n",
       "  'price': 153,\n",
       "  'quantity': 258,\n",
       "  'offer%': 10},\n",
       " '1037': {'name': 'Colgate Mouth Freshner',\n",
       "  'weight': '500ml',\n",
       "  'price': 404,\n",
       "  'quantity': 654,\n",
       "  'offer%': 11},\n",
       " '1038': {'name': 'Exo Dish Wash Bar',\n",
       "  'weight': '700g',\n",
       "  'price': 113,\n",
       "  'quantity': 354,\n",
       "  'offer%': 8},\n",
       " '1039': {'name': 'Margo Neem Soap',\n",
       "  'weight': '125',\n",
       "  'price': 119,\n",
       "  'quantity': 156,\n",
       "  'offer%': 4},\n",
       " '1040': {'name': 'colgate Tooth Brush',\n",
       "  'weight': '4nos',\n",
       "  'price': 204,\n",
       "  'quantity': 365,\n",
       "  'offer%': 15},\n",
       " '1041': {'name': 'Dabur Red Paste',\n",
       "  'weight': '800g',\n",
       "  'price': 264,\n",
       "  'quantity': 412,\n",
       "  'offer%': 9},\n",
       " '1042': {'name': 'Safe Wash Liquid Detergent',\n",
       "  'weight': '1l',\n",
       "  'price': 294,\n",
       "  'quantity': 698,\n",
       "  'offer%': 16}}"
      ]
     },
     "execution_count": 5,
     "metadata": {},
     "output_type": "execute_result"
    }
   ],
   "source": [
    "#converting str to dict\n",
    "records=json.loads(text)\n",
    "records"
   ]
  },
  {
   "cell_type": "markdown",
   "id": "faf5e8c8",
   "metadata": {},
   "source": [
    "#### checking the records of the file"
   ]
  },
  {
   "cell_type": "code",
   "execution_count": 13,
   "id": "ad8eeb8c",
   "metadata": {},
   "outputs": [],
   "source": [
    "sales=dict()\n",
    "#initialising the sales database"
   ]
  },
  {
   "cell_type": "markdown",
   "id": "1259eeda",
   "metadata": {},
   "source": [
    "#### purchasing"
   ]
  },
  {
   "cell_type": "code",
   "execution_count": 14,
   "id": "f21e03e2",
   "metadata": {},
   "outputs": [
    {
     "name": "stdout",
     "output_type": "stream",
     "text": [
      "Enter the Product Id:1020\n",
      "Enter the Quantity:5\n",
      "|            NAME OF PRODUCT             |  PRICE   | QUANTITY | DISCOUNT |  AMOUNT  |\n",
      "|         B-Natural Mango Juice          |   220    |    5     |   55.0   |  1045.0  |\n",
      "Enter the Product Id:q\n",
      "enter your phn no:5825\n",
      "enter mode of payment:online\n",
      "--------------------------------------------\n",
      "YAYY YOU SAVED :55.0\n",
      "TOTAL AMOUNT TO BE PAID: 1045.0\n",
      "--------------------------------------------\n"
     ]
    }
   ],
   "source": [
    "overall_price=0\n",
    "total_disc_price=0\n",
    "total_quant=0\n",
    "transaction_number=0\n",
    "while True:\n",
    "    ui_prod=input('Enter the Product Id:')\n",
    "    if ui_prod=='q':\n",
    "        phn_no=input('enter your phn no:')\n",
    "        mop=input('enter mode of payment:')\n",
    "        transaction_number+=1\n",
    "        t=time.ctime\n",
    "        info={'mop':mop,'transaction_id':transaction_number,'discount_amount':total_disc_price,'date of purchase':t}\n",
    "        sales[phn_no]=info\n",
    "        print('--------------------------------------------')\n",
    "        print('YAYY YOU SAVED :{}'.format(total_disc_price))\n",
    "        print('TOTAL AMOUNT TO BE PAID: {}'.format(overall_price))\n",
    "        print('--------------------------------------------')\n",
    "        break    \n",
    "    elif ui_prod not in records:\n",
    "        print('*******valid product id******')\n",
    "        continue\n",
    "    else:\n",
    "        ui_quant=int(input('Enter the Quantity:'))\n",
    "        avail_qaunt=records[ui_prod]['quantity']\n",
    "        prod_price=records[ui_prod]['price']\n",
    "        prod_disc=records[ui_prod]['offer%']/100\n",
    "        if ui_quant>avail_qaunt:\n",
    "            ui_quant=int(input('Enter the Quantity less than {}:'.format(avail_qaunt)))\n",
    "        else:\n",
    "            products_price=prod_price*ui_quant*(1-prod_disc)\n",
    "            discount=prod_price*ui_quant*prod_disc\n",
    "            overall_price+=products_price\n",
    "            total_disc_price+=discount\n",
    "            total_quant+=ui_quant\n",
    "            records[ui_prod]['quantity']=int(avail_qaunt)-int(ui_quant)\n",
    "        print('|{:^40}|{:^10}|{:^10}|{:^10}|{:^10}|'.format('NAME OF PRODUCT','PRICE','QUANTITY','DISCOUNT','AMOUNT'))\n",
    "        print('|{:^40}|{:^10}|{:^10}|{:^10}|{:^10}|'.format(records[ui_prod]['name'],records[ui_prod]['price'],ui_quant,round(discount,2),products_price))"
   ]
  },
  {
   "cell_type": "markdown",
   "id": "b08d73b9",
   "metadata": {},
   "source": [
    "#### cheking the sales data"
   ]
  },
  {
   "cell_type": "code",
   "execution_count": 15,
   "id": "90a28674",
   "metadata": {},
   "outputs": [
    {
     "data": {
      "text/plain": [
       "{'5825': {'mop': 'online',\n",
       "  'transaction_id': 1,\n",
       "  'discount_amount': 55.0,\n",
       "  'date of purchase': <function time.ctime>}}"
      ]
     },
     "execution_count": 15,
     "metadata": {},
     "output_type": "execute_result"
    }
   ],
   "source": [
    "sales\n",
    "#mop is the mode of payment"
   ]
  },
  {
   "cell_type": "markdown",
   "id": "0ae2f343",
   "metadata": {},
   "source": [
    "#### overwriting the records database so that records will get updated"
   ]
  },
  {
   "cell_type": "code",
   "execution_count": 16,
   "id": "ad18909a",
   "metadata": {},
   "outputs": [],
   "source": [
    "fd=open('record.json','w')\n",
    "txt=json.dumps(records)\n",
    "fd.write(txt)\n",
    "fd.close()"
   ]
  },
  {
   "cell_type": "code",
   "execution_count": 17,
   "id": "0313d7fd",
   "metadata": {},
   "outputs": [
    {
     "data": {
      "text/plain": [
       "'{\"1011\": {\"name\": \"Dark fantasy\", \"weight\": \"600g\", \"price\": 180, \"quantity\": 450, \"offer%\": 25}, \"1012\": {\"name\": \"Daawath Basmati\", \"weight\": \"5kg\", \"price\": 299, \"quantity\": 300, \"offer%\": 20}, \"1013\": {\"name\": \"Tata chilli powder\", \"weight\": \"500g\", \"price\": 105, \"quantity\": 200, \"offer%\": 47}, \"1014\": {\"name\": \"Ashirvad atta\", \"weight\": \"5kg\", \"price\": 272, \"quantity\": 398, \"offer%\": 9}, \"1015\": {\"name\": \"Tata Tea\", \"weight\": \"1kg\", \"price\": 470, \"quantity\": 148, \"offer%\": 21}, \"1016\": {\"name\": \"Pril Dish Wash\", \"weight\": \"2l\", \"price\": 320, \"quantity\": 500, \"offer%\": 18}, \"1017\": {\"name\": \"Bingo Chips\", \"weight\": \"130g\", \"price\": 40, \"quantity\": 600, \"offer%\": 20}, \"1018\": {\"name\": \"Cinthol Soap\", \"weight\": \"100g\", \"price\": 243, \"quantity\": 150, \"offer%\": 15}, \"1019\": {\"name\": \"Dabur Shampoo\", \"weight\": \"250ml\", \"price\": 228, \"quantity\": 100, \"offer%\": 40}, \"1020\": {\"name\": \"B-Natural Mango Juice\", \"weight\": \"1l\", \"price\": 220, \"quantity\": 195, \"offer%\": 5}, \"1021\": {\"name\": \"Godrej Handwash\", \"weight\": \"1.5l\", \"price\": 149, \"quantity\": 310, \"offer%\": 28}, \"1022\": {\"name\": \"Lizol\", \"weight\": \"5l\", \"price\": 606, \"quantity\": 240, \"offer%\": 20}, \"1023\": {\"name\": \"Thums Up\", \"weight\": \"1.25l\", \"price\": 60, \"quantity\": 120, \"offer%\": 7}, \"1024\": {\"name\": \"Nivea Body Lotion\", \"weight\": \"600ml\", \"price\": 411, \"quantity\": 280, \"offer%\": 7}, \"1025\": {\"name\": \"Nivea Body Wash\", \"weight\": \"500ml\", \"price\": 319, \"quantity\": 626, \"offer%\": 20}, \"1026\": {\"name\": \"Tomato Ketchup\", \"weight\": \"950g\", \"price\": 75, \"quantity\": 508, \"offer%\": 37}, \"1027\": {\"name\": \"Savlon Disinfect Spray\", \"weight\": \"230ml\", \"price\": 135, \"quantity\": 305, \"offer%\": 15}, \"1028\": {\"name\": \"Ponds Cream\", \"weight\": \"35g\", \"price\": 128, \"quantity\": 546, \"offer%\": 9}, \"1029\": {\"name\": \"Dove Shampoo\", \"weight\": \"400ml\", \"price\": 227, \"quantity\": 315, \"offer%\": 27}, \"1030\": {\"name\": \"Maaza\", \"weight\": \"1.2l\", \"price\": 70, \"quantity\": 125, \"offer%\": 16}, \"1031\": {\"name\": \"Saffola Honey\", \"weight\": \"1.2kg\", \"price\": 265, \"quantity\": 244, \"offer%\": 36}, \"1032\": {\"name\": \"Complain\", \"weight\": \"1kg\", \"price\": 450, \"quantity\": 426, \"offer%\": 15}, \"1033\": {\"name\": \"Dettol Body Wash\", \"weight\": \"250ml\", \"price\": 150, \"quantity\": 346, \"offer%\": 25}, \"1034\": {\"name\": \"Pampers\", \"weight\": \"12nos\", \"price\": 1671, \"quantity\": 156, \"offer%\": 20}, \"1035\": {\"name\": \"Himalaya Laundry Wash\", \"weight\": \"1l\", \"price\": 310, \"quantity\": 741, \"offer%\": 27}, \"1036\": {\"name\": \"Harpic Cleaner\", \"weight\": \"1l\", \"price\": 153, \"quantity\": 258, \"offer%\": 10}, \"1037\": {\"name\": \"Colgate Mouth Freshner\", \"weight\": \"500ml\", \"price\": 404, \"quantity\": 654, \"offer%\": 11}, \"1038\": {\"name\": \"Exo Dish Wash Bar\", \"weight\": \"700g\", \"price\": 113, \"quantity\": 354, \"offer%\": 8}, \"1039\": {\"name\": \"Margo Neem Soap\", \"weight\": \"125\", \"price\": 119, \"quantity\": 156, \"offer%\": 4}, \"1040\": {\"name\": \"colgate Tooth Brush\", \"weight\": \"4nos\", \"price\": 204, \"quantity\": 365, \"offer%\": 15}, \"1041\": {\"name\": \"Dabur Red Paste\", \"weight\": \"800g\", \"price\": 264, \"quantity\": 412, \"offer%\": 9}, \"1042\": {\"name\": \"Safe Wash Liquid Detergent\", \"weight\": \"1l\", \"price\": 294, \"quantity\": 698, \"offer%\": 16}}'"
      ]
     },
     "execution_count": 17,
     "metadata": {},
     "output_type": "execute_result"
    }
   ],
   "source": [
    "txt"
   ]
  },
  {
   "cell_type": "markdown",
   "id": "6c871391",
   "metadata": {},
   "source": [
    "#### changing the sales database"
   ]
  },
  {
   "cell_type": "code",
   "execution_count": 18,
   "id": "91e3ebde",
   "metadata": {},
   "outputs": [
    {
     "data": {
      "text/plain": [
       "\"{'1234': {'mop': 'online','transaction_id': 1,'discount_amount': 197.4,'date of purchase': <function time.ctime>}}\""
      ]
     },
     "execution_count": 18,
     "metadata": {},
     "output_type": "execute_result"
    }
   ],
   "source": [
    "fd=open('sales.json')\n",
    "s=fd.read()\n",
    "s"
   ]
  },
  {
   "cell_type": "code",
   "execution_count": 19,
   "id": "e8ea2a8a",
   "metadata": {},
   "outputs": [
    {
     "ename": "TypeError",
     "evalue": "Object of type builtin_function_or_method is not JSON serializable",
     "output_type": "error",
     "traceback": [
      "\u001b[1;31m---------------------------------------------------------------------------\u001b[0m",
      "\u001b[1;31mTypeError\u001b[0m                                 Traceback (most recent call last)",
      "\u001b[1;32m<ipython-input-19-eae45f3b5bda>\u001b[0m in \u001b[0;36m<module>\u001b[1;34m\u001b[0m\n\u001b[0;32m      1\u001b[0m \u001b[0mfds\u001b[0m\u001b[1;33m=\u001b[0m\u001b[0mopen\u001b[0m\u001b[1;33m(\u001b[0m\u001b[1;34m'sales.json'\u001b[0m\u001b[1;33m,\u001b[0m\u001b[1;34m'w'\u001b[0m\u001b[1;33m)\u001b[0m\u001b[1;33m\u001b[0m\u001b[1;33m\u001b[0m\u001b[0m\n\u001b[1;32m----> 2\u001b[1;33m \u001b[0ms\u001b[0m\u001b[1;33m=\u001b[0m\u001b[0mjson\u001b[0m\u001b[1;33m.\u001b[0m\u001b[0mdumps\u001b[0m\u001b[1;33m(\u001b[0m\u001b[0msales\u001b[0m\u001b[1;33m)\u001b[0m\u001b[1;33m\u001b[0m\u001b[1;33m\u001b[0m\u001b[0m\n\u001b[0m\u001b[0;32m      3\u001b[0m \u001b[0mfds\u001b[0m\u001b[1;33m.\u001b[0m\u001b[0mwrite\u001b[0m\u001b[1;33m(\u001b[0m\u001b[0ms\u001b[0m\u001b[1;33m)\u001b[0m\u001b[1;33m\u001b[0m\u001b[1;33m\u001b[0m\u001b[0m\n\u001b[0;32m      4\u001b[0m \u001b[0mfds\u001b[0m\u001b[1;33m.\u001b[0m\u001b[0mclose\u001b[0m\u001b[1;33m(\u001b[0m\u001b[1;33m)\u001b[0m\u001b[1;33m\u001b[0m\u001b[1;33m\u001b[0m\u001b[0m\n",
      "\u001b[1;32m~\\anaconda3\\lib\\json\\__init__.py\u001b[0m in \u001b[0;36mdumps\u001b[1;34m(obj, skipkeys, ensure_ascii, check_circular, allow_nan, cls, indent, separators, default, sort_keys, **kw)\u001b[0m\n\u001b[0;32m    229\u001b[0m         \u001b[0mcls\u001b[0m \u001b[1;32mis\u001b[0m \u001b[1;32mNone\u001b[0m \u001b[1;32mand\u001b[0m \u001b[0mindent\u001b[0m \u001b[1;32mis\u001b[0m \u001b[1;32mNone\u001b[0m \u001b[1;32mand\u001b[0m \u001b[0mseparators\u001b[0m \u001b[1;32mis\u001b[0m \u001b[1;32mNone\u001b[0m \u001b[1;32mand\u001b[0m\u001b[1;33m\u001b[0m\u001b[1;33m\u001b[0m\u001b[0m\n\u001b[0;32m    230\u001b[0m         default is None and not sort_keys and not kw):\n\u001b[1;32m--> 231\u001b[1;33m         \u001b[1;32mreturn\u001b[0m \u001b[0m_default_encoder\u001b[0m\u001b[1;33m.\u001b[0m\u001b[0mencode\u001b[0m\u001b[1;33m(\u001b[0m\u001b[0mobj\u001b[0m\u001b[1;33m)\u001b[0m\u001b[1;33m\u001b[0m\u001b[1;33m\u001b[0m\u001b[0m\n\u001b[0m\u001b[0;32m    232\u001b[0m     \u001b[1;32mif\u001b[0m \u001b[0mcls\u001b[0m \u001b[1;32mis\u001b[0m \u001b[1;32mNone\u001b[0m\u001b[1;33m:\u001b[0m\u001b[1;33m\u001b[0m\u001b[1;33m\u001b[0m\u001b[0m\n\u001b[0;32m    233\u001b[0m         \u001b[0mcls\u001b[0m \u001b[1;33m=\u001b[0m \u001b[0mJSONEncoder\u001b[0m\u001b[1;33m\u001b[0m\u001b[1;33m\u001b[0m\u001b[0m\n",
      "\u001b[1;32m~\\anaconda3\\lib\\json\\encoder.py\u001b[0m in \u001b[0;36mencode\u001b[1;34m(self, o)\u001b[0m\n\u001b[0;32m    197\u001b[0m         \u001b[1;31m# exceptions aren't as detailed.  The list call should be roughly\u001b[0m\u001b[1;33m\u001b[0m\u001b[1;33m\u001b[0m\u001b[1;33m\u001b[0m\u001b[0m\n\u001b[0;32m    198\u001b[0m         \u001b[1;31m# equivalent to the PySequence_Fast that ''.join() would do.\u001b[0m\u001b[1;33m\u001b[0m\u001b[1;33m\u001b[0m\u001b[1;33m\u001b[0m\u001b[0m\n\u001b[1;32m--> 199\u001b[1;33m         \u001b[0mchunks\u001b[0m \u001b[1;33m=\u001b[0m \u001b[0mself\u001b[0m\u001b[1;33m.\u001b[0m\u001b[0miterencode\u001b[0m\u001b[1;33m(\u001b[0m\u001b[0mo\u001b[0m\u001b[1;33m,\u001b[0m \u001b[0m_one_shot\u001b[0m\u001b[1;33m=\u001b[0m\u001b[1;32mTrue\u001b[0m\u001b[1;33m)\u001b[0m\u001b[1;33m\u001b[0m\u001b[1;33m\u001b[0m\u001b[0m\n\u001b[0m\u001b[0;32m    200\u001b[0m         \u001b[1;32mif\u001b[0m \u001b[1;32mnot\u001b[0m \u001b[0misinstance\u001b[0m\u001b[1;33m(\u001b[0m\u001b[0mchunks\u001b[0m\u001b[1;33m,\u001b[0m \u001b[1;33m(\u001b[0m\u001b[0mlist\u001b[0m\u001b[1;33m,\u001b[0m \u001b[0mtuple\u001b[0m\u001b[1;33m)\u001b[0m\u001b[1;33m)\u001b[0m\u001b[1;33m:\u001b[0m\u001b[1;33m\u001b[0m\u001b[1;33m\u001b[0m\u001b[0m\n\u001b[0;32m    201\u001b[0m             \u001b[0mchunks\u001b[0m \u001b[1;33m=\u001b[0m \u001b[0mlist\u001b[0m\u001b[1;33m(\u001b[0m\u001b[0mchunks\u001b[0m\u001b[1;33m)\u001b[0m\u001b[1;33m\u001b[0m\u001b[1;33m\u001b[0m\u001b[0m\n",
      "\u001b[1;32m~\\anaconda3\\lib\\json\\encoder.py\u001b[0m in \u001b[0;36miterencode\u001b[1;34m(self, o, _one_shot)\u001b[0m\n\u001b[0;32m    255\u001b[0m                 \u001b[0mself\u001b[0m\u001b[1;33m.\u001b[0m\u001b[0mkey_separator\u001b[0m\u001b[1;33m,\u001b[0m \u001b[0mself\u001b[0m\u001b[1;33m.\u001b[0m\u001b[0mitem_separator\u001b[0m\u001b[1;33m,\u001b[0m \u001b[0mself\u001b[0m\u001b[1;33m.\u001b[0m\u001b[0msort_keys\u001b[0m\u001b[1;33m,\u001b[0m\u001b[1;33m\u001b[0m\u001b[1;33m\u001b[0m\u001b[0m\n\u001b[0;32m    256\u001b[0m                 self.skipkeys, _one_shot)\n\u001b[1;32m--> 257\u001b[1;33m         \u001b[1;32mreturn\u001b[0m \u001b[0m_iterencode\u001b[0m\u001b[1;33m(\u001b[0m\u001b[0mo\u001b[0m\u001b[1;33m,\u001b[0m \u001b[1;36m0\u001b[0m\u001b[1;33m)\u001b[0m\u001b[1;33m\u001b[0m\u001b[1;33m\u001b[0m\u001b[0m\n\u001b[0m\u001b[0;32m    258\u001b[0m \u001b[1;33m\u001b[0m\u001b[0m\n\u001b[0;32m    259\u001b[0m def _make_iterencode(markers, _default, _encoder, _indent, _floatstr,\n",
      "\u001b[1;32m~\\anaconda3\\lib\\json\\encoder.py\u001b[0m in \u001b[0;36mdefault\u001b[1;34m(self, o)\u001b[0m\n\u001b[0;32m    177\u001b[0m \u001b[1;33m\u001b[0m\u001b[0m\n\u001b[0;32m    178\u001b[0m         \"\"\"\n\u001b[1;32m--> 179\u001b[1;33m         raise TypeError(f'Object of type {o.__class__.__name__} '\n\u001b[0m\u001b[0;32m    180\u001b[0m                         f'is not JSON serializable')\n\u001b[0;32m    181\u001b[0m \u001b[1;33m\u001b[0m\u001b[0m\n",
      "\u001b[1;31mTypeError\u001b[0m: Object of type builtin_function_or_method is not JSON serializable"
     ]
    }
   ],
   "source": [
    "fds=open('sales.json','w')\n",
    "s=json.dumps(sales)\n",
    "fds.write(s)\n",
    "fds.close()"
   ]
  },
  {
   "cell_type": "code",
   "execution_count": null,
   "id": "543dffa4",
   "metadata": {},
   "outputs": [],
   "source": []
  }
 ],
 "metadata": {
  "kernelspec": {
   "display_name": "Python 3",
   "language": "python",
   "name": "python3"
  },
  "language_info": {
   "codemirror_mode": {
    "name": "ipython",
    "version": 3
   },
   "file_extension": ".py",
   "mimetype": "text/x-python",
   "name": "python",
   "nbconvert_exporter": "python",
   "pygments_lexer": "ipython3",
   "version": "3.8.8"
  }
 },
 "nbformat": 4,
 "nbformat_minor": 5
}

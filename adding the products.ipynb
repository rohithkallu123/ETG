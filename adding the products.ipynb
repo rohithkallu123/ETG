{
 "cells": [
  {
   "cell_type": "markdown",
   "id": "857f0e51",
   "metadata": {},
   "source": [
    "#### importing the libraries"
   ]
  },
  {
   "cell_type": "code",
   "execution_count": null,
   "id": "f8c9ec59",
   "metadata": {},
   "outputs": [],
   "source": [
    "import json\n",
    "import time"
   ]
  },
  {
   "cell_type": "markdown",
   "id": "49cad91b",
   "metadata": {},
   "source": [
    "#### obtaining the information from data base"
   ]
  },
  {
   "cell_type": "code",
   "execution_count": null,
   "id": "6fdb55fd",
   "metadata": {
    "scrolled": true
   },
   "outputs": [],
   "source": [
    "fd=open('record.json','r')\n",
    "txt=fd.read()\n",
    "fd.close()"
   ]
  },
  {
   "cell_type": "code",
   "execution_count": null,
   "id": "8becc9d3",
   "metadata": {},
   "outputs": [],
   "source": [
    "txt\n",
    "#checking the database"
   ]
  },
  {
   "cell_type": "markdown",
   "id": "acc0addc",
   "metadata": {},
   "source": [
    "#### ADDING THE PRODUCTS"
   ]
  },
  {
   "cell_type": "code",
   "execution_count": null,
   "id": "c6d3d636",
   "metadata": {},
   "outputs": [],
   "source": [
    "#uploading the info\n",
    "'''records={1011:{'name':'Dark fantasy','weight':'600g','price':180,'quantity':450,'offer%':25},\n",
    "         1012:{'name':'Daawath Basmati','weight':'5kg','price':299,'quantity':300,'offer%':20},\n",
    "        1013:{'name':'Tata chilli powder','weight':'500g','price':105,'quantity':200,'offer%':47},\n",
    "        1014:{'name':'Ashirvad atta' ,'weight':'5kg' ,'price':272 ,'quantity':400 ,'offer%':9 },\n",
    "         1015:{'name':'Tata Tea' ,'weight':'1kg' ,'price':470 ,'quantity':150 ,'offer%':21 },\n",
    "         1016:{'name':'Pril Dish Wash' ,'weight':'2l' ,'price':320,'quantity':500 ,'offer%':18 },\n",
    "         1017:{'name':'Bingo Chips' ,'weight':'130g' ,'price':40 ,'quantity':600 ,'offer%':20 },\n",
    "         1018:{'name':'Cinthol Soap' ,'weight':'100g' ,'price':243 ,'quantity':150 ,'offer%':15 },\n",
    "         1019:{'name':'Dabur Shampoo' ,'weight':'250ml' ,'price':228 ,'quantity':100 ,'offer%':40 },\n",
    "         1020:{'name':'B-Natural Mango Juice' ,'weight':'1l' ,'price':220 ,'quantity':200 ,'offer%':5 },\n",
    "         1021:{'name':'Godrej Handwash' ,'weight':'1.5l' ,'price':149 ,'quantity':310 ,'offer%':28 },\n",
    "         1022:{'name':'Lizol' ,'weight':'5l' ,'price':606 ,'quantity': 240,'offer%':20 },\n",
    "         1023:{'name':'Thums Up' ,'weight':'1.25l' ,'price':60 ,'quantity':120 ,'offer%': 7},\n",
    "         1024:{'name':'Nivea Body Lotion' ,'weight':'600ml' ,'price':411 ,'quantity':280 ,'offer%':7 },\n",
    "         1025:{'name':'Nivea Body Wash' ,'weight':'500ml' ,'price':319 ,'quantity':626 ,'offer%':20 },\n",
    "         1026:{'name':'Tomato Ketchup' ,'weight':'950g' ,'price': 75,'quantity':508 ,'offer%':37 },\n",
    "         1027:{'name':'Savlon Disinfect Spray' ,'weight':'230ml' ,'price':135,'quantity':305 ,'offer%':15 },\n",
    "         1028:{'name':'Ponds Cream' ,'weight':'35g' ,'price':128 ,'quantity':546 ,'offer%':9 },\n",
    "         1029:{'name':'Dove Shampoo' ,'weight':'400ml' ,'price':227 ,'quantity':315 ,'offer%':27 },\n",
    "         1030:{'name':'Maaza' ,'weight':'1.2l' ,'price':70 ,'quantity':125 ,'offer%':16 },\n",
    "         1031:{'name':'Saffola Honey' ,'weight':'1.2kg' ,'price':265 ,'quantity':244 ,'offer%':36 },\n",
    "         1032:{'name':'Complain' ,'weight':'1kg' ,'price':450 ,'quantity':426 ,'offer%':15},\n",
    "         1033:{'name':'Dettol Body Wash' ,'weight':'250ml' ,'price':150 ,'quantity':346 ,'offer%':25 },\n",
    "         1034:{'name':'Pampers' ,'weight':'12nos' ,'price':1671 ,'quantity':156 ,'offer%':20 },\n",
    "         1035:{'name':'Himalaya Laundry Wash' ,'weight':'1l' ,'price':310 ,'quantity':741 ,'offer%':27 },\n",
    "         1036:{'name':'Harpic Cleaner' ,'weight':'1l' ,'price':153 ,'quantity':258 ,'offer%':10 },\n",
    "         1037:{'name':'Colgate Mouth Freshner' ,'weight':'500ml' ,'price':404 ,'quantity':654 ,'offer%':11 },\n",
    "         1038:{'name':'Exo Dish Wash Bar' ,'weight':'700g' ,'price':113 ,'quantity':354 ,'offer%':8 },\n",
    "         1039:{'name':'Margo Neem Soap' ,'weight':'125' ,'price':119 ,'quantity':156 ,'offer%': 4},\n",
    "         1040:{'name':'colgate Tooth Brush' ,'weight':'4nos' ,'price':204 ,'quantity':365 ,'offer%':15 },\n",
    "         1041:{'name':'Dabur Red Paste' ,'weight':'800g' ,'price':264 ,'quantity':412 ,'offer%': 9},\n",
    "         1042:{'name':'Safe Wash Liquid Detergent' ,'weight':'1l' ,'price':294 ,'quantity':698 ,'offer%': 16}}'''"
   ]
  },
  {
   "cell_type": "code",
   "execution_count": null,
   "id": "57ed5503",
   "metadata": {},
   "outputs": [],
   "source": [
    "while True:\n",
    "    prod_id=input('enter product id:')\n",
    "    if prod_id=='q':\n",
    "        break\n",
    "    elif prod_id in records:\n",
    "        quant=int(input('enter the qauntity you want to add:'))\n",
    "        n_quant=int(records[prod_id]['quantity'])+quant\n",
    "    else:\n",
    "        name=input('enter the name of the product:')\n",
    "        quantity=input('enter the quantity you want to add:')\n",
    "        weight=input('enter the weight of item:')\n",
    "        price=int(input('enter the MRP of the product:'))\n",
    "        discount=int(input('enter the discount in %:'))\n",
    "        dicty={'name':name,'weight':weight,'price':price,'quantity':quantity,'offer%':discount}\n",
    "        records[int(prod_id)]=dicty"
   ]
  },
  {
   "cell_type": "code",
   "execution_count": null,
   "id": "de8b0643",
   "metadata": {},
   "outputs": [],
   "source": [
    "records"
   ]
  },
  {
   "cell_type": "markdown",
   "id": "ff7214f5",
   "metadata": {},
   "source": [
    "#### updating the records database"
   ]
  },
  {
   "cell_type": "code",
   "execution_count": null,
   "id": "7a37fda6",
   "metadata": {},
   "outputs": [],
   "source": [
    "fd=open('record.json','w')\n",
    "txt=json.dumps(records)\n",
    "fd.write(txt)\n",
    "fd.close"
   ]
  },
  {
   "cell_type": "code",
   "execution_count": null,
   "id": "0feeba4a",
   "metadata": {},
   "outputs": [],
   "source": [
    "fd=open('record.json','r')\n",
    "txt=fd.read()\n",
    "fd.close()\n",
    "txt"
   ]
  },
  {
   "cell_type": "code",
   "execution_count": null,
   "id": "2b27049d",
   "metadata": {},
   "outputs": [],
   "source": [
    "txt"
   ]
  },
  {
   "cell_type": "code",
   "execution_count": null,
   "id": "c19701e9",
   "metadata": {},
   "outputs": [],
   "source": []
  }
 ],
 "metadata": {
  "kernelspec": {
   "display_name": "Python 3",
   "language": "python",
   "name": "python3"
  },
  "language_info": {
   "codemirror_mode": {
    "name": "ipython",
    "version": 3
   },
   "file_extension": ".py",
   "mimetype": "text/x-python",
   "name": "python",
   "nbconvert_exporter": "python",
   "pygments_lexer": "ipython3",
   "version": "3.8.8"
  }
 },
 "nbformat": 4,
 "nbformat_minor": 5
}
